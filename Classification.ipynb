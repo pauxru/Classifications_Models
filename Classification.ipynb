{
  "nbformat": 4,
  "nbformat_minor": 0,
  "metadata": {
    "colab": {
      "name": "Classification.ipynb",
      "provenance": [],
      "collapsed_sections": [],
      "authorship_tag": "ABX9TyNkriAKp+OhDvMCyT6RiTNn",
      "include_colab_link": true
    },
    "kernelspec": {
      "name": "python3",
      "display_name": "Python 3"
    }
  },
  "cells": [
    {
      "cell_type": "markdown",
      "metadata": {
        "id": "view-in-github",
        "colab_type": "text"
      },
      "source": [
        "<a href=\"https://colab.research.google.com/github/pauxru/Classifications_Models/blob/main/Classification.ipynb\" target=\"_parent\"><img src=\"https://colab.research.google.com/assets/colab-badge.svg\" alt=\"Open In Colab\"/></a>"
      ]
    },
    {
      "cell_type": "markdown",
      "metadata": {
        "id": "rbmMONdm1Axe"
      },
      "source": [
        "Classification"
      ]
    },
    {
      "cell_type": "markdown",
      "metadata": {
        "id": "hG9gxhAqVTBT"
      },
      "source": [
        "##Classification\n",
        "Now that we've covered linear regression it is time to talk about classification. Where regression was used to predict a numeric value, classification is used to seperate data points into classes of different labels. In this example we will use a TensorFlow estimator to classify flowers.\n",
        "\n",
        "Since we've touched on how estimators work earlier, I'll go a bit quicker through this example. \n",
        "\n",
        "This section is based on the following guide from the TensorFlow website.\n",
        "https://www.tensorflow.org/tutorials/estimator/premade\n",
        "\n",
        "\n"
      ]
    },
    {
      "cell_type": "code",
      "metadata": {
        "id": "uZeDdwRK1KO_"
      },
      "source": [
        "%tensorflow_version 2.x"
      ],
      "execution_count": null,
      "outputs": []
    },
    {
      "cell_type": "code",
      "metadata": {
        "id": "frMf4Ulc1c-6"
      },
      "source": [
        "from __future__ import absolute_import, division, print_function, unicode_literals\n",
        "import tensorflow as tf\n",
        "import pandas as pd"
      ],
      "execution_count": null,
      "outputs": []
    },
    {
      "cell_type": "markdown",
      "metadata": {
        "id": "FEpPWCJZ1zcZ"
      },
      "source": [
        ""
      ]
    },
    {
      "cell_type": "code",
      "metadata": {
        "id": "p6EFLYOu1v5P"
      },
      "source": [
        "csv_columns_names = ['SepalLength', 'SepalWidth', 'PetalLength', 'PetalWidth', 'Species']\n",
        "species = ['Setosa', 'Versicolor', 'Virginica']"
      ],
      "execution_count": null,
      "outputs": []
    },
    {
      "cell_type": "code",
      "metadata": {
        "id": "kY-_TGP62Qc-",
        "colab": {
          "base_uri": "https://localhost:8080/",
          "height": 110
        },
        "outputId": "737dfca1-6cca-43d1-f4f1-02cb07791331"
      },
      "source": [
        "train_path = tf.keras.utils.get_file(\n",
        "    \"iris_training.csv\", \"https://storage.googleapis.com/download.tensorflow.org/data/iris_training.csv\")\n",
        "test_path = tf.keras.utils.get_file(\n",
        "    \"iris_test.csv\", \"https://storage.googleapis.com/download.tensorflow.org/data/iris_test.csv\")\n",
        "\n",
        "train = pd.read_csv(train_path, names=csv_columns_names, header=0)\n",
        "test = pd.read_csv(test_path, names=csv_columns_names, header=0)\n"
      ],
      "execution_count": null,
      "outputs": [
        {
          "output_type": "stream",
          "text": [
            "Downloading data from https://storage.googleapis.com/download.tensorflow.org/data/iris_training.csv\n",
            "8192/2194 [================================================================================================================] - 0s 0us/step\n",
            "Downloading data from https://storage.googleapis.com/download.tensorflow.org/data/iris_test.csv\n",
            "8192/573 [============================================================================================================================================================================================================================================================================================================================================================================================================================================] - 0s 0us/step\n"
          ],
          "name": "stdout"
        }
      ]
    },
    {
      "cell_type": "code",
      "metadata": {
        "id": "wVzdHQyM22Id",
        "colab": {
          "base_uri": "https://localhost:8080/",
          "height": 206
        },
        "outputId": "285e2755-603f-4188-d075-08de4ee14cba"
      },
      "source": [
        "train.head()"
      ],
      "execution_count": null,
      "outputs": [
        {
          "output_type": "execute_result",
          "data": {
            "text/html": [
              "<div>\n",
              "<style scoped>\n",
              "    .dataframe tbody tr th:only-of-type {\n",
              "        vertical-align: middle;\n",
              "    }\n",
              "\n",
              "    .dataframe tbody tr th {\n",
              "        vertical-align: top;\n",
              "    }\n",
              "\n",
              "    .dataframe thead th {\n",
              "        text-align: right;\n",
              "    }\n",
              "</style>\n",
              "<table border=\"1\" class=\"dataframe\">\n",
              "  <thead>\n",
              "    <tr style=\"text-align: right;\">\n",
              "      <th></th>\n",
              "      <th>SepalLength</th>\n",
              "      <th>SepalWidth</th>\n",
              "      <th>PetalLength</th>\n",
              "      <th>PetalWidth</th>\n",
              "      <th>Species</th>\n",
              "    </tr>\n",
              "  </thead>\n",
              "  <tbody>\n",
              "    <tr>\n",
              "      <th>0</th>\n",
              "      <td>6.4</td>\n",
              "      <td>2.8</td>\n",
              "      <td>5.6</td>\n",
              "      <td>2.2</td>\n",
              "      <td>2</td>\n",
              "    </tr>\n",
              "    <tr>\n",
              "      <th>1</th>\n",
              "      <td>5.0</td>\n",
              "      <td>2.3</td>\n",
              "      <td>3.3</td>\n",
              "      <td>1.0</td>\n",
              "      <td>1</td>\n",
              "    </tr>\n",
              "    <tr>\n",
              "      <th>2</th>\n",
              "      <td>4.9</td>\n",
              "      <td>2.5</td>\n",
              "      <td>4.5</td>\n",
              "      <td>1.7</td>\n",
              "      <td>2</td>\n",
              "    </tr>\n",
              "    <tr>\n",
              "      <th>3</th>\n",
              "      <td>4.9</td>\n",
              "      <td>3.1</td>\n",
              "      <td>1.5</td>\n",
              "      <td>0.1</td>\n",
              "      <td>0</td>\n",
              "    </tr>\n",
              "    <tr>\n",
              "      <th>4</th>\n",
              "      <td>5.7</td>\n",
              "      <td>3.8</td>\n",
              "      <td>1.7</td>\n",
              "      <td>0.3</td>\n",
              "      <td>0</td>\n",
              "    </tr>\n",
              "  </tbody>\n",
              "</table>\n",
              "</div>"
            ],
            "text/plain": [
              "   SepalLength  SepalWidth  PetalLength  PetalWidth  Species\n",
              "0          6.4         2.8          5.6         2.2        2\n",
              "1          5.0         2.3          3.3         1.0        1\n",
              "2          4.9         2.5          4.5         1.7        2\n",
              "3          4.9         3.1          1.5         0.1        0\n",
              "4          5.7         3.8          1.7         0.3        0"
            ]
          },
          "metadata": {
            "tags": []
          },
          "execution_count": 8
        }
      ]
    },
    {
      "cell_type": "code",
      "metadata": {
        "id": "_VTzkNF_3Ajd",
        "colab": {
          "base_uri": "https://localhost:8080/",
          "height": 206
        },
        "outputId": "1a328255-3c8a-425a-a474-3a63665f0082"
      },
      "source": [
        "train_y = train.pop('Species')\n",
        "test_y = test.pop('Species')\n",
        "train.head()"
      ],
      "execution_count": null,
      "outputs": [
        {
          "output_type": "execute_result",
          "data": {
            "text/html": [
              "<div>\n",
              "<style scoped>\n",
              "    .dataframe tbody tr th:only-of-type {\n",
              "        vertical-align: middle;\n",
              "    }\n",
              "\n",
              "    .dataframe tbody tr th {\n",
              "        vertical-align: top;\n",
              "    }\n",
              "\n",
              "    .dataframe thead th {\n",
              "        text-align: right;\n",
              "    }\n",
              "</style>\n",
              "<table border=\"1\" class=\"dataframe\">\n",
              "  <thead>\n",
              "    <tr style=\"text-align: right;\">\n",
              "      <th></th>\n",
              "      <th>SepalLength</th>\n",
              "      <th>SepalWidth</th>\n",
              "      <th>PetalLength</th>\n",
              "      <th>PetalWidth</th>\n",
              "    </tr>\n",
              "  </thead>\n",
              "  <tbody>\n",
              "    <tr>\n",
              "      <th>0</th>\n",
              "      <td>6.4</td>\n",
              "      <td>2.8</td>\n",
              "      <td>5.6</td>\n",
              "      <td>2.2</td>\n",
              "    </tr>\n",
              "    <tr>\n",
              "      <th>1</th>\n",
              "      <td>5.0</td>\n",
              "      <td>2.3</td>\n",
              "      <td>3.3</td>\n",
              "      <td>1.0</td>\n",
              "    </tr>\n",
              "    <tr>\n",
              "      <th>2</th>\n",
              "      <td>4.9</td>\n",
              "      <td>2.5</td>\n",
              "      <td>4.5</td>\n",
              "      <td>1.7</td>\n",
              "    </tr>\n",
              "    <tr>\n",
              "      <th>3</th>\n",
              "      <td>4.9</td>\n",
              "      <td>3.1</td>\n",
              "      <td>1.5</td>\n",
              "      <td>0.1</td>\n",
              "    </tr>\n",
              "    <tr>\n",
              "      <th>4</th>\n",
              "      <td>5.7</td>\n",
              "      <td>3.8</td>\n",
              "      <td>1.7</td>\n",
              "      <td>0.3</td>\n",
              "    </tr>\n",
              "  </tbody>\n",
              "</table>\n",
              "</div>"
            ],
            "text/plain": [
              "   SepalLength  SepalWidth  PetalLength  PetalWidth\n",
              "0          6.4         2.8          5.6         2.2\n",
              "1          5.0         2.3          3.3         1.0\n",
              "2          4.9         2.5          4.5         1.7\n",
              "3          4.9         3.1          1.5         0.1\n",
              "4          5.7         3.8          1.7         0.3"
            ]
          },
          "metadata": {
            "tags": []
          },
          "execution_count": 6
        }
      ]
    },
    {
      "cell_type": "code",
      "metadata": {
        "id": "buHWWYVg4BS-",
        "colab": {
          "base_uri": "https://localhost:8080/",
          "height": 293
        },
        "outputId": "19889eef-94ac-4f5a-bdb3-a2265c70411b"
      },
      "source": [
        "print(train.shape)\n",
        "train.head"
      ],
      "execution_count": null,
      "outputs": [
        {
          "output_type": "stream",
          "text": [
            "(120, 4)\n"
          ],
          "name": "stdout"
        },
        {
          "output_type": "execute_result",
          "data": {
            "text/plain": [
              "<bound method NDFrame.head of      SepalLength  SepalWidth  PetalLength  PetalWidth\n",
              "0            6.4         2.8          5.6         2.2\n",
              "1            5.0         2.3          3.3         1.0\n",
              "2            4.9         2.5          4.5         1.7\n",
              "3            4.9         3.1          1.5         0.1\n",
              "4            5.7         3.8          1.7         0.3\n",
              "..           ...         ...          ...         ...\n",
              "115          5.5         2.6          4.4         1.2\n",
              "116          5.7         3.0          4.2         1.2\n",
              "117          4.4         2.9          1.4         0.2\n",
              "118          4.8         3.0          1.4         0.1\n",
              "119          5.5         2.4          3.7         1.0\n",
              "\n",
              "[120 rows x 4 columns]>"
            ]
          },
          "metadata": {
            "tags": []
          },
          "execution_count": 18
        }
      ]
    },
    {
      "cell_type": "code",
      "metadata": {
        "id": "TytDIOSC46c-"
      },
      "source": [
        "#INPUT FUCTION\n",
        "\n",
        "def input_fn (features, labels, training=True, batch_size=256):\n",
        "  #convert the inputs to a dataset\n",
        "  dataset = tf.data.Dataset.from_tensor_slices((dict(features), labels))\n",
        "\n",
        "  # shuffle and repeat if you are in training mode\n",
        "\n",
        "  if training:\n",
        "    dataset = dataset.shuffle(1000).repeat()\n",
        "\n",
        "  return dataset.batch(batch_size)"
      ],
      "execution_count": null,
      "outputs": []
    },
    {
      "cell_type": "code",
      "metadata": {
        "id": "PvDmB-v86A3y",
        "colab": {
          "base_uri": "https://localhost:8080/",
          "height": 55
        },
        "outputId": "94bbf806-9395-4a9e-dbec-8c0f67988dac"
      },
      "source": [
        "#Feature columns\n",
        "#They describe how to use the input\n",
        "my_feature_columns = []\n",
        "for key in train.keys():\n",
        "  my_feature_columns.append(tf.feature_column.numeric_column(key=key))\n",
        "print (my_feature_columns)"
      ],
      "execution_count": null,
      "outputs": [
        {
          "output_type": "stream",
          "text": [
            "[NumericColumn(key='SepalLength', shape=(1,), default_value=None, dtype=tf.float32, normalizer_fn=None), NumericColumn(key='SepalWidth', shape=(1,), default_value=None, dtype=tf.float32, normalizer_fn=None), NumericColumn(key='PetalLength', shape=(1,), default_value=None, dtype=tf.float32, normalizer_fn=None), NumericColumn(key='PetalWidth', shape=(1,), default_value=None, dtype=tf.float32, normalizer_fn=None)]\n"
          ],
          "name": "stdout"
        }
      ]
    },
    {
      "cell_type": "markdown",
      "metadata": {
        "id": "Q-Q4s43A7Q99"
      },
      "source": [
        ""
      ]
    },
    {
      "cell_type": "markdown",
      "metadata": {
        "id": "5kl1Wr_Xgpmv"
      },
      "source": [
        "###Building the Model\n",
        "And now we are ready to choose a model. For classification tasks there are variety of different estimators/models that we can pick from. Some options are listed below.\n",
        "- ```DNNClassifier``` (Deep Neural Network)\n",
        "- ```LinearClassifier```\n",
        "\n",
        "We can choose either model but the DNN seems to be the best choice. This is because we may not be able to find a linear coorespondence in our data. \n",
        "\n",
        "So let's build a model!"
      ]
    },
    {
      "cell_type": "code",
      "metadata": {
        "id": "FUFq6ksv7B4W",
        "colab": {
          "base_uri": "https://localhost:8080/",
          "height": 202
        },
        "outputId": "506b3ffb-2fdd-41e9-af40-15f7a833a998"
      },
      "source": [
        "# Build a DNN with 2 hidden layers with 30 and 10 hidden nodes each.\n",
        "classifier = tf.estimator.DNNClassifier(feature_columns=my_feature_columns, \n",
        "#Two hidden layers of 30 and 10 nodes resepectively\n",
        "hidden_units=[30, 10], \n",
        "#The model must choose between 3 classes\n",
        "n_classes=3                                        \n",
        "                                        )"
      ],
      "execution_count": null,
      "outputs": [
        {
          "output_type": "stream",
          "text": [
            "INFO:tensorflow:Using default config.\n",
            "WARNING:tensorflow:Using temporary folder as model directory: /tmp/tmpgwd75658\n",
            "INFO:tensorflow:Using config: {'_model_dir': '/tmp/tmpgwd75658', '_tf_random_seed': None, '_save_summary_steps': 100, '_save_checkpoints_steps': None, '_save_checkpoints_secs': 600, '_session_config': allow_soft_placement: true\n",
            "graph_options {\n",
            "  rewrite_options {\n",
            "    meta_optimizer_iterations: ONE\n",
            "  }\n",
            "}\n",
            ", '_keep_checkpoint_max': 5, '_keep_checkpoint_every_n_hours': 10000, '_log_step_count_steps': 100, '_train_distribute': None, '_device_fn': None, '_protocol': None, '_eval_distribute': None, '_experimental_distribute': None, '_experimental_max_worker_delay_secs': None, '_session_creation_timeout_secs': 7200, '_service': None, '_cluster_spec': ClusterSpec({}), '_task_type': 'worker', '_task_id': 0, '_global_id_in_cluster': 0, '_master': '', '_evaluation_master': '', '_is_chief': True, '_num_ps_replicas': 0, '_num_worker_replicas': 1}\n"
          ],
          "name": "stdout"
        }
      ]
    },
    {
      "cell_type": "markdown",
      "metadata": {
        "id": "jQ_SJAMuiF6p"
      },
      "source": [
        "What we've just done is created a deep neural network that has two hidden layers. These layers have 30 and 10 neurons respectively. This is the number of neurons the TensorFlow official tutorial uses so we'll stick with it. However, it is worth mentioning that the number of hidden neurons is an arbitrary number and many experiments and tests are usually done to determine the best choice for these values. Try playing around with the number of hidden neurons and see if your results change."
      ]
    },
    {
      "cell_type": "code",
      "metadata": {
        "id": "F9x-a7vg8oR-",
        "colab": {
          "base_uri": "https://localhost:8080/",
          "height": 1000
        },
        "outputId": "9c983437-5283-4288-ccc6-d8ed10f7ad62"
      },
      "source": [
        "#TRAINING\n",
        "classifier.train(\n",
        "    input_fn=lambda: input_fn(train, train_y, training=True), \n",
        "    steps=5000\n",
        ")"
      ],
      "execution_count": null,
      "outputs": [
        {
          "output_type": "stream",
          "text": [
            "INFO:tensorflow:Calling model_fn.\n",
            "WARNING:tensorflow:Layer dnn is casting an input tensor from dtype float64 to the layer's dtype of float32, which is new behavior in TensorFlow 2.  The layer has dtype float32 because it's dtype defaults to floatx.\n",
            "\n",
            "If you intended to run this layer in float32, you can safely ignore this warning. If in doubt, this warning is likely only an issue if you are porting a TensorFlow 1.X model to TensorFlow 2.\n",
            "\n",
            "To change all layers to have dtype float64 by default, call `tf.keras.backend.set_floatx('float64')`. To change just this layer, pass dtype='float64' to the layer constructor. If you are the author of this layer, you can disable autocasting by passing autocast=False to the base Layer constructor.\n",
            "\n",
            "INFO:tensorflow:Done calling model_fn.\n",
            "INFO:tensorflow:Create CheckpointSaverHook.\n",
            "INFO:tensorflow:Graph was finalized.\n",
            "INFO:tensorflow:Restoring parameters from /tmp/tmpgwd75658/model.ckpt-5000\n",
            "WARNING:tensorflow:From /usr/local/lib/python3.6/dist-packages/tensorflow/python/training/saver.py:1077: get_checkpoint_mtimes (from tensorflow.python.training.checkpoint_management) is deprecated and will be removed in a future version.\n",
            "Instructions for updating:\n",
            "Use standard file utilities to get mtimes.\n",
            "INFO:tensorflow:Running local_init_op.\n",
            "INFO:tensorflow:Done running local_init_op.\n",
            "INFO:tensorflow:Calling checkpoint listeners before saving checkpoint 5000...\n",
            "INFO:tensorflow:Saving checkpoints for 5000 into /tmp/tmpgwd75658/model.ckpt.\n",
            "INFO:tensorflow:Calling checkpoint listeners after saving checkpoint 5000...\n",
            "INFO:tensorflow:loss = 0.41797742, step = 5000\n",
            "INFO:tensorflow:global_step/sec: 564.103\n",
            "INFO:tensorflow:loss = 0.41024864, step = 5100 (0.179 sec)\n",
            "INFO:tensorflow:global_step/sec: 712.4\n",
            "INFO:tensorflow:loss = 0.40791065, step = 5200 (0.140 sec)\n",
            "INFO:tensorflow:global_step/sec: 703.56\n",
            "INFO:tensorflow:loss = 0.40739813, step = 5300 (0.145 sec)\n",
            "INFO:tensorflow:global_step/sec: 657.554\n",
            "INFO:tensorflow:loss = 0.41509598, step = 5400 (0.150 sec)\n",
            "INFO:tensorflow:global_step/sec: 676.094\n",
            "INFO:tensorflow:loss = 0.389632, step = 5500 (0.150 sec)\n",
            "INFO:tensorflow:global_step/sec: 717.65\n",
            "INFO:tensorflow:loss = 0.40307087, step = 5600 (0.139 sec)\n",
            "INFO:tensorflow:global_step/sec: 719.93\n",
            "INFO:tensorflow:loss = 0.4028598, step = 5700 (0.137 sec)\n",
            "INFO:tensorflow:global_step/sec: 610.803\n",
            "INFO:tensorflow:loss = 0.3854494, step = 5800 (0.166 sec)\n",
            "INFO:tensorflow:global_step/sec: 686.71\n",
            "INFO:tensorflow:loss = 0.39706224, step = 5900 (0.144 sec)\n",
            "INFO:tensorflow:global_step/sec: 687.619\n",
            "INFO:tensorflow:loss = 0.38597095, step = 6000 (0.147 sec)\n",
            "INFO:tensorflow:global_step/sec: 705.562\n",
            "INFO:tensorflow:loss = 0.38848454, step = 6100 (0.140 sec)\n",
            "INFO:tensorflow:global_step/sec: 608.281\n",
            "INFO:tensorflow:loss = 0.39463168, step = 6200 (0.167 sec)\n",
            "INFO:tensorflow:global_step/sec: 676.873\n",
            "INFO:tensorflow:loss = 0.38423336, step = 6300 (0.148 sec)\n",
            "INFO:tensorflow:global_step/sec: 724.11\n",
            "INFO:tensorflow:loss = 0.3908955, step = 6400 (0.135 sec)\n",
            "INFO:tensorflow:global_step/sec: 728.746\n",
            "INFO:tensorflow:loss = 0.38370097, step = 6500 (0.138 sec)\n",
            "INFO:tensorflow:global_step/sec: 692.228\n",
            "INFO:tensorflow:loss = 0.38413706, step = 6600 (0.147 sec)\n",
            "INFO:tensorflow:global_step/sec: 695.755\n",
            "INFO:tensorflow:loss = 0.3820874, step = 6700 (0.142 sec)\n",
            "INFO:tensorflow:global_step/sec: 668.632\n",
            "INFO:tensorflow:loss = 0.38005403, step = 6800 (0.152 sec)\n",
            "INFO:tensorflow:global_step/sec: 671.807\n",
            "INFO:tensorflow:loss = 0.370982, step = 6900 (0.146 sec)\n",
            "INFO:tensorflow:global_step/sec: 703.942\n",
            "INFO:tensorflow:loss = 0.37292886, step = 7000 (0.144 sec)\n",
            "INFO:tensorflow:global_step/sec: 691.926\n",
            "INFO:tensorflow:loss = 0.37157366, step = 7100 (0.142 sec)\n",
            "INFO:tensorflow:global_step/sec: 705.977\n",
            "INFO:tensorflow:loss = 0.3731737, step = 7200 (0.144 sec)\n",
            "INFO:tensorflow:global_step/sec: 693.843\n",
            "INFO:tensorflow:loss = 0.37234965, step = 7300 (0.144 sec)\n",
            "INFO:tensorflow:global_step/sec: 661.61\n",
            "INFO:tensorflow:loss = 0.36523312, step = 7400 (0.152 sec)\n",
            "INFO:tensorflow:global_step/sec: 626.772\n",
            "INFO:tensorflow:loss = 0.37698644, step = 7500 (0.162 sec)\n",
            "INFO:tensorflow:global_step/sec: 630.853\n",
            "INFO:tensorflow:loss = 0.3758909, step = 7600 (0.154 sec)\n",
            "INFO:tensorflow:global_step/sec: 654.565\n",
            "INFO:tensorflow:loss = 0.3612967, step = 7700 (0.153 sec)\n",
            "INFO:tensorflow:global_step/sec: 610.93\n",
            "INFO:tensorflow:loss = 0.3613384, step = 7800 (0.164 sec)\n",
            "INFO:tensorflow:global_step/sec: 682.913\n",
            "INFO:tensorflow:loss = 0.3695193, step = 7900 (0.146 sec)\n",
            "INFO:tensorflow:global_step/sec: 672.217\n",
            "INFO:tensorflow:loss = 0.36309674, step = 8000 (0.151 sec)\n",
            "INFO:tensorflow:global_step/sec: 652.491\n",
            "INFO:tensorflow:loss = 0.3470238, step = 8100 (0.151 sec)\n",
            "INFO:tensorflow:global_step/sec: 672.452\n",
            "INFO:tensorflow:loss = 0.35744104, step = 8200 (0.151 sec)\n",
            "INFO:tensorflow:global_step/sec: 709.235\n",
            "INFO:tensorflow:loss = 0.3576753, step = 8300 (0.139 sec)\n",
            "INFO:tensorflow:global_step/sec: 719.236\n",
            "INFO:tensorflow:loss = 0.34725237, step = 8400 (0.141 sec)\n",
            "INFO:tensorflow:global_step/sec: 668.53\n",
            "INFO:tensorflow:loss = 0.34412497, step = 8500 (0.150 sec)\n",
            "INFO:tensorflow:global_step/sec: 697.789\n",
            "INFO:tensorflow:loss = 0.33841342, step = 8600 (0.143 sec)\n",
            "INFO:tensorflow:global_step/sec: 643.565\n",
            "INFO:tensorflow:loss = 0.33866954, step = 8700 (0.153 sec)\n",
            "INFO:tensorflow:global_step/sec: 671.416\n",
            "INFO:tensorflow:loss = 0.3479333, step = 8800 (0.151 sec)\n",
            "INFO:tensorflow:global_step/sec: 703.876\n",
            "INFO:tensorflow:loss = 0.34580195, step = 8900 (0.140 sec)\n",
            "INFO:tensorflow:global_step/sec: 709.39\n",
            "INFO:tensorflow:loss = 0.33624798, step = 9000 (0.143 sec)\n",
            "INFO:tensorflow:global_step/sec: 691.262\n",
            "INFO:tensorflow:loss = 0.35197374, step = 9100 (0.143 sec)\n",
            "INFO:tensorflow:global_step/sec: 724.991\n",
            "INFO:tensorflow:loss = 0.3412465, step = 9200 (0.138 sec)\n",
            "INFO:tensorflow:global_step/sec: 706.63\n",
            "INFO:tensorflow:loss = 0.3285997, step = 9300 (0.142 sec)\n",
            "INFO:tensorflow:global_step/sec: 713.894\n",
            "INFO:tensorflow:loss = 0.33452368, step = 9400 (0.140 sec)\n",
            "INFO:tensorflow:global_step/sec: 699.151\n",
            "INFO:tensorflow:loss = 0.33444566, step = 9500 (0.145 sec)\n",
            "INFO:tensorflow:global_step/sec: 702.198\n",
            "INFO:tensorflow:loss = 0.34181446, step = 9600 (0.140 sec)\n",
            "INFO:tensorflow:global_step/sec: 730.566\n",
            "INFO:tensorflow:loss = 0.33856475, step = 9700 (0.139 sec)\n",
            "INFO:tensorflow:global_step/sec: 708.326\n",
            "INFO:tensorflow:loss = 0.33632773, step = 9800 (0.141 sec)\n",
            "INFO:tensorflow:global_step/sec: 670.344\n",
            "INFO:tensorflow:loss = 0.3347186, step = 9900 (0.147 sec)\n",
            "INFO:tensorflow:Calling checkpoint listeners before saving checkpoint 10000...\n",
            "INFO:tensorflow:Saving checkpoints for 10000 into /tmp/tmpgwd75658/model.ckpt.\n",
            "INFO:tensorflow:Calling checkpoint listeners after saving checkpoint 10000...\n",
            "INFO:tensorflow:Loss for final step: 0.33684382.\n"
          ],
          "name": "stdout"
        },
        {
          "output_type": "execute_result",
          "data": {
            "text/plain": [
              "<tensorflow_estimator.python.estimator.canned.dnn.DNNClassifierV2 at 0x7f1ad296ebe0>"
            ]
          },
          "metadata": {
            "tags": []
          },
          "execution_count": 12
        }
      ]
    },
    {
      "cell_type": "code",
      "metadata": {
        "id": "AzIZ53w59SVF",
        "colab": {
          "base_uri": "https://localhost:8080/",
          "height": 404
        },
        "outputId": "2d0c5801-a21a-435f-92d9-e7006b4f9c0a"
      },
      "source": [
        "#EVALUATION\n",
        "eval_result = classifier.evaluate(input_fn=lambda: input_fn(test, test_y, training=False))\n",
        "print ('\\nTest set accuracy: {accuracy:0.3f}\\n'.format(**eval_result))\n"
      ],
      "execution_count": null,
      "outputs": [
        {
          "output_type": "stream",
          "text": [
            "INFO:tensorflow:Calling model_fn.\n",
            "WARNING:tensorflow:Layer dnn is casting an input tensor from dtype float64 to the layer's dtype of float32, which is new behavior in TensorFlow 2.  The layer has dtype float32 because it's dtype defaults to floatx.\n",
            "\n",
            "If you intended to run this layer in float32, you can safely ignore this warning. If in doubt, this warning is likely only an issue if you are porting a TensorFlow 1.X model to TensorFlow 2.\n",
            "\n",
            "To change all layers to have dtype float64 by default, call `tf.keras.backend.set_floatx('float64')`. To change just this layer, pass dtype='float64' to the layer constructor. If you are the author of this layer, you can disable autocasting by passing autocast=False to the base Layer constructor.\n",
            "\n",
            "INFO:tensorflow:Done calling model_fn.\n",
            "INFO:tensorflow:Starting evaluation at 2020-06-27T18:49:31Z\n",
            "INFO:tensorflow:Graph was finalized.\n",
            "INFO:tensorflow:Restoring parameters from /tmp/tmpgwd75658/model.ckpt-10000\n",
            "INFO:tensorflow:Running local_init_op.\n",
            "INFO:tensorflow:Done running local_init_op.\n",
            "INFO:tensorflow:Inference Time : 0.16369s\n",
            "INFO:tensorflow:Finished evaluation at 2020-06-27-18:49:31\n",
            "INFO:tensorflow:Saving dict for global step 10000: accuracy = 0.93333334, average_loss = 0.39436162, global_step = 10000, loss = 0.39436162\n",
            "INFO:tensorflow:Saving 'checkpoint_path' summary for global step 10000: /tmp/tmpgwd75658/model.ckpt-10000\n",
            "\n",
            "Test set accuracy: 0.933\n",
            "\n"
          ],
          "name": "stdout"
        }
      ]
    },
    {
      "cell_type": "code",
      "metadata": {
        "id": "kGvThpvg-Blb",
        "colab": {
          "base_uri": "https://localhost:8080/",
          "height": 237
        },
        "outputId": "c3eb6966-0712-42e7-c6c7-06e21ae55c18"
      },
      "source": [
        "#PREDICTION\n",
        "def input_fn (features, batch_size=256):\n",
        "  #convert the inputs to a dataset without lables\n",
        "  return tf.data.Dataset.from_tensor_slices(dict(features)).batch(batch_size)\n",
        "\n",
        "features = ['SepalLength', 'SepalWidth', 'PetalLength', 'PetalWidth']\n",
        "predict = {}\n",
        "\n",
        "print(\"Please enter values: \")\n",
        "for feature in features:\n",
        "  valid = True\n",
        "  while valid:\n",
        "    val = input(feature + \": \")\n",
        "    if not val.isdigit():valid = False\n",
        "  predict[feature] = [float(val)]\n",
        "predictions = classifier.predict(input_fn=lambda: input_fn(predict))\n",
        "for pred_dict in predictions:\n",
        "  class_id = pred_dict['class_ids'][0]\n",
        "  probability = pred_dict['probabilities'][class_id]\n",
        "\n",
        "print('Prediction is \"{}\"({:.1f}%)'.format(species[class_id], 100 * probability))"
      ],
      "execution_count": null,
      "outputs": [
        {
          "output_type": "stream",
          "text": [
            "Please enter values: \n",
            "SepalLength: 0.9\n",
            "SepalWidth: 0.8\n",
            "PetalLength: 0.7\n",
            "PetalWidth: 0.6\n",
            "INFO:tensorflow:Calling model_fn.\n",
            "INFO:tensorflow:Done calling model_fn.\n",
            "INFO:tensorflow:Graph was finalized.\n",
            "INFO:tensorflow:Restoring parameters from /tmp/tmpgwd75658/model.ckpt-10000\n",
            "INFO:tensorflow:Running local_init_op.\n",
            "INFO:tensorflow:Done running local_init_op.\n",
            "Prediction is \"Versicolor\"(44.0%)\n"
          ],
          "name": "stdout"
        }
      ]
    },
    {
      "cell_type": "code",
      "metadata": {
        "id": "1bokHXcsDnu3",
        "colab": {
          "base_uri": "https://localhost:8080/",
          "height": 338
        },
        "outputId": "d0c1b7d7-32f5-45e0-c89d-239f6044f9bf"
      },
      "source": [
        "def input_fn(features, batch_size=256):\n",
        "    # Convert the inputs to a Dataset without labels.\n",
        "    return tf.data.Dataset.from_tensor_slices(dict(features)).batch(batch_size)\n",
        "\n",
        "features = ['SepalLength', 'SepalWidth', 'PetalLength', 'PetalWidth']\n",
        "predict = {}\n",
        "\n",
        "print(\"Please type numeric values as prompted.\")\n",
        "for feature in features:\n",
        "  valid = True\n",
        "  while valid: \n",
        "    val = input(feature + \": \")\n",
        "    if not val.isdigit(): valid = False\n",
        "\n",
        "  predict[feature] = [float(val)]\n",
        "\n",
        "predictions = classifier.predict(input_fn=lambda: input_fn(predict))\n",
        "for pred_dict in predictions:\n",
        "    class_id = pred_dict['class_ids'][0]\n",
        "    probability = pred_dict['probabilities'][class_id]\n",
        "\n",
        "    print('Prediction is \"{}\" ({:.1f}%)'.format(\n",
        "        species[class_id], 100 * probability))\n"
      ],
      "execution_count": null,
      "outputs": [
        {
          "output_type": "stream",
          "text": [
            "Please type numeric values as prompted.\n",
            "SepalLength: 0.9\n",
            "SepalWidth: 0.8\n",
            "PetalLength: 0.7\n",
            "PetalWidth: 0.6\n"
          ],
          "name": "stdout"
        },
        {
          "output_type": "error",
          "ename": "NameError",
          "evalue": "ignored",
          "traceback": [
            "\u001b[0;31m---------------------------------------------------------------------------\u001b[0m",
            "\u001b[0;31mNameError\u001b[0m                                 Traceback (most recent call last)",
            "\u001b[0;32m<ipython-input-2-67a7328a9856>\u001b[0m in \u001b[0;36m<module>\u001b[0;34m()\u001b[0m\n\u001b[1;32m     15\u001b[0m   \u001b[0mpredict\u001b[0m\u001b[0;34m[\u001b[0m\u001b[0mfeature\u001b[0m\u001b[0;34m]\u001b[0m \u001b[0;34m=\u001b[0m \u001b[0;34m[\u001b[0m\u001b[0mfloat\u001b[0m\u001b[0;34m(\u001b[0m\u001b[0mval\u001b[0m\u001b[0;34m)\u001b[0m\u001b[0;34m]\u001b[0m\u001b[0;34m\u001b[0m\u001b[0;34m\u001b[0m\u001b[0m\n\u001b[1;32m     16\u001b[0m \u001b[0;34m\u001b[0m\u001b[0m\n\u001b[0;32m---> 17\u001b[0;31m \u001b[0mpredictions\u001b[0m \u001b[0;34m=\u001b[0m \u001b[0mclassifier\u001b[0m\u001b[0;34m.\u001b[0m\u001b[0mpredict\u001b[0m\u001b[0;34m(\u001b[0m\u001b[0minput_fn\u001b[0m\u001b[0;34m=\u001b[0m\u001b[0;32mlambda\u001b[0m\u001b[0;34m:\u001b[0m \u001b[0minput_fn\u001b[0m\u001b[0;34m(\u001b[0m\u001b[0mpredict\u001b[0m\u001b[0;34m)\u001b[0m\u001b[0;34m)\u001b[0m\u001b[0;34m\u001b[0m\u001b[0;34m\u001b[0m\u001b[0m\n\u001b[0m\u001b[1;32m     18\u001b[0m \u001b[0;32mfor\u001b[0m \u001b[0mpred_dict\u001b[0m \u001b[0;32min\u001b[0m \u001b[0mpredictions\u001b[0m\u001b[0;34m:\u001b[0m\u001b[0;34m\u001b[0m\u001b[0;34m\u001b[0m\u001b[0m\n\u001b[1;32m     19\u001b[0m     \u001b[0mclass_id\u001b[0m \u001b[0;34m=\u001b[0m \u001b[0mpred_dict\u001b[0m\u001b[0;34m[\u001b[0m\u001b[0;34m'class_ids'\u001b[0m\u001b[0;34m]\u001b[0m\u001b[0;34m[\u001b[0m\u001b[0;36m0\u001b[0m\u001b[0;34m]\u001b[0m\u001b[0;34m\u001b[0m\u001b[0;34m\u001b[0m\u001b[0m\n",
            "\u001b[0;31mNameError\u001b[0m: name 'classifier' is not defined"
          ]
        }
      ]
    }
  ]
}